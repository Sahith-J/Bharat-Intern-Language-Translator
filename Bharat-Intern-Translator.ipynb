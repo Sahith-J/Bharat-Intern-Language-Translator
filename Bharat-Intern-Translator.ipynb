{
 "cells": [
  {
   "cell_type": "code",
   "execution_count": 2,
   "id": "e6416e70",
   "metadata": {},
   "outputs": [],
   "source": [
    "#importing dependancies\n",
    "from googletrans import Translator\n",
    "from IPython.display import display, HTML\n"
   ]
  },
  {
   "cell_type": "code",
   "execution_count": 3,
   "id": "7a0f3601",
   "metadata": {},
   "outputs": [],
   "source": [
    "# Create an instance of the Translator class\n",
    "translator = Translator(service_urls=['translate.google.com'])"
   ]
  },
  {
   "cell_type": "code",
   "execution_count": 4,
   "id": "56f871ae",
   "metadata": {},
   "outputs": [],
   "source": [
    "def translate_text(text, target_language):\n",
    "    # Translate the input text to the target language\n",
    "    translation = translator.translate(text, dest=target_language)\n",
    "    translated_text = translation.text\n",
    "    source_language = translation.src\n",
    "    \n",
    "    # Display the source language and translated text\n",
    "    display(HTML(f'<b>Source Language:</b> {source_language}'))\n",
    "    display(HTML(f'<b>Translated Text:</b> {translated_text}'))"
   ]
  },
  {
   "cell_type": "code",
   "execution_count": 5,
   "id": "51d60369",
   "metadata": {},
   "outputs": [],
   "source": [
    "def detect_language(text):\n",
    "    # Detect the language of the input text\n",
    "    detected = translator.detect(text)\n",
    "    detected_lang = detected.lang\n",
    "    confidence = detected.confidence\n",
    "    \n",
    "    # Display the detected language and confidence level\n",
    "    display(HTML(f'<b>Detected Language:</b> {detected_lang}'))\n",
    "    display(HTML(f'<b>Confidence:</b> {confidence}'))"
   ]
  },
  {
   "cell_type": "code",
   "execution_count": 6,
   "id": "dce4ad9f",
   "metadata": {},
   "outputs": [],
   "source": [
    "def translate_file(file_path, target_language):\n",
    "    try:\n",
    "        # Read the contents of the file\n",
    "        with open(file_path, 'r', encoding='utf-8') as file:\n",
    "            text = file.read()\n",
    "            # Translate the text using the translate_text function\n",
    "            translate_text(text, target_language)\n",
    "    except FileNotFoundError:\n",
    "        print(f\"File '{file_path}' not found.\")\n",
    "    except Exception as e:\n",
    "        print(f\"An error occurred while translating the file: {e}\")"
   ]
  },
  {
   "cell_type": "code",
   "execution_count": 7,
   "id": "d9b3e6e0",
   "metadata": {},
   "outputs": [
    {
     "name": "stdout",
     "output_type": "stream",
     "text": [
      "Enter 'q' to quit, 't' to translate text, 'd' to detect language, or 'f' to translate a file: q\n",
      "Quitting the translator tool...\n"
     ]
    }
   ],
   "source": [
    "while True:\n",
    "    # Display the menu and get user input\n",
    "    choice = input(\"Enter 'q' to quit, 't' to translate text, 'd' to detect language, or 'f' to translate a file: \")\n",
    "    \n",
    "    if choice.lower() == 'q':\n",
    "        print(\"Quitting the translator tool...\")\n",
    "        break\n",
    "    \n",
    "    if choice.lower() == 't':\n",
    "        text = input(\"Enter the text to translate: \")\n",
    "        target_language = input(\"Enter the target language: \")\n",
    "        # Call the translate_text function to translate the input text\n",
    "        translate_text(text, target_language)\n",
    "    \n",
    "    elif choice.lower() == 'd':\n",
    "        text = input(\"Enter the text to detect language: \")\n",
    "        # Call the detect_language function to detect the language of the input text\n",
    "        detect_language(text)\n",
    "    \n",
    "    elif choice.lower() == 'f':\n",
    "        file_path = input(\"Enter the file path to translate: \")\n",
    "        target_language = input(\"Enter the target language: \")\n",
    "        # Call the translate_file function to translate the contents of the file\n",
    "        translate_file(file_path, target_language)\n",
    "    \n",
    "    else:\n",
    "        print(\"Invalid choice. Please try again.\")\n"
   ]
  },
  {
   "cell_type": "code",
   "execution_count": null,
   "id": "8d66299d",
   "metadata": {},
   "outputs": [],
   "source": []
  }
 ],
 "metadata": {
  "kernelspec": {
   "display_name": "Python 3 (ipykernel)",
   "language": "python",
   "name": "python3"
  },
  "language_info": {
   "codemirror_mode": {
    "name": "ipython",
    "version": 3
   },
   "file_extension": ".py",
   "mimetype": "text/x-python",
   "name": "python",
   "nbconvert_exporter": "python",
   "pygments_lexer": "ipython3",
   "version": "3.10.9"
  }
 },
 "nbformat": 4,
 "nbformat_minor": 5
}
